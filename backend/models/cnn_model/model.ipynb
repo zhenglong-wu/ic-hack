{
 "cells": [
  {
   "cell_type": "code",
   "execution_count": 166,
   "metadata": {},
   "outputs": [
    {
     "data": {
      "text/html": [
       "<div>\n",
       "<style scoped>\n",
       "    .dataframe tbody tr th:only-of-type {\n",
       "        vertical-align: middle;\n",
       "    }\n",
       "\n",
       "    .dataframe tbody tr th {\n",
       "        vertical-align: top;\n",
       "    }\n",
       "\n",
       "    .dataframe thead th {\n",
       "        text-align: right;\n",
       "    }\n",
       "</style>\n",
       "<table border=\"1\" class=\"dataframe\">\n",
       "  <thead>\n",
       "    <tr style=\"text-align: right;\">\n",
       "      <th></th>\n",
       "      <th>level</th>\n",
       "      <th>long</th>\n",
       "      <th>lat</th>\n",
       "    </tr>\n",
       "  </thead>\n",
       "  <tbody>\n",
       "    <tr>\n",
       "      <th>0</th>\n",
       "      <td>0</td>\n",
       "      <td>-0.130495</td>\n",
       "      <td>51.511534</td>\n",
       "    </tr>\n",
       "    <tr>\n",
       "      <th>1</th>\n",
       "      <td>0</td>\n",
       "      <td>-0.140844</td>\n",
       "      <td>51.514684</td>\n",
       "    </tr>\n",
       "    <tr>\n",
       "      <th>2</th>\n",
       "      <td>0</td>\n",
       "      <td>-0.135874</td>\n",
       "      <td>51.515684</td>\n",
       "    </tr>\n",
       "    <tr>\n",
       "      <th>3</th>\n",
       "      <td>0</td>\n",
       "      <td>-0.110329</td>\n",
       "      <td>51.518250</td>\n",
       "    </tr>\n",
       "    <tr>\n",
       "      <th>4</th>\n",
       "      <td>0</td>\n",
       "      <td>-0.125708</td>\n",
       "      <td>51.507725</td>\n",
       "    </tr>\n",
       "    <tr>\n",
       "      <th>...</th>\n",
       "      <td>...</td>\n",
       "      <td>...</td>\n",
       "      <td>...</td>\n",
       "    </tr>\n",
       "    <tr>\n",
       "      <th>8953</th>\n",
       "      <td>1</td>\n",
       "      <td>-0.134599</td>\n",
       "      <td>51.511608</td>\n",
       "    </tr>\n",
       "    <tr>\n",
       "      <th>8954</th>\n",
       "      <td>1</td>\n",
       "      <td>-0.125331</td>\n",
       "      <td>51.513753</td>\n",
       "    </tr>\n",
       "    <tr>\n",
       "      <th>8955</th>\n",
       "      <td>1</td>\n",
       "      <td>-0.131706</td>\n",
       "      <td>51.509404</td>\n",
       "    </tr>\n",
       "    <tr>\n",
       "      <th>8956</th>\n",
       "      <td>1</td>\n",
       "      <td>-0.147526</td>\n",
       "      <td>51.516597</td>\n",
       "    </tr>\n",
       "    <tr>\n",
       "      <th>8957</th>\n",
       "      <td>1</td>\n",
       "      <td>-0.110746</td>\n",
       "      <td>51.516523</td>\n",
       "    </tr>\n",
       "  </tbody>\n",
       "</table>\n",
       "<p>8958 rows × 3 columns</p>\n",
       "</div>"
      ],
      "text/plain": [
       "      level      long        lat\n",
       "0         0 -0.130495  51.511534\n",
       "1         0 -0.140844  51.514684\n",
       "2         0 -0.135874  51.515684\n",
       "3         0 -0.110329  51.518250\n",
       "4         0 -0.125708  51.507725\n",
       "...     ...       ...        ...\n",
       "8953      1 -0.134599  51.511608\n",
       "8954      1 -0.125331  51.513753\n",
       "8955      1 -0.131706  51.509404\n",
       "8956      1 -0.147526  51.516597\n",
       "8957      1 -0.110746  51.516523\n",
       "\n",
       "[8958 rows x 3 columns]"
      ]
     },
     "execution_count": 166,
     "metadata": {},
     "output_type": "execute_result"
    }
   ],
   "source": [
    "import pandas as pd\n",
    "import numpy as np\n",
    "import tensorflow as tf\n",
    "import matplotlib.pyplot as plt\n",
    "\n",
    "data = pd.read_csv('data/data.csv', index_col=None)\n",
    "data"
   ]
  },
  {
   "cell_type": "code",
   "execution_count": 167,
   "metadata": {},
   "outputs": [],
   "source": [
    "from sklearn.preprocessing import MinMaxScaler\n",
    "from sklearn.model_selection import train_test_split\n",
    "\n",
    "\n",
    "scaler = MinMaxScaler()\n",
    "X = scaler.fit_transform(data.loc[:, ['long', 'lat']])\n",
    "Y = scaler.fit_transform(data.loc[:, ['level']])\n",
    "\n",
    "X_train, X_test, Y_train, Y_test = train_test_split(X, Y, test_size=0.2, random_state=42)"
   ]
  },
  {
   "cell_type": "code",
   "execution_count": 184,
   "metadata": {},
   "outputs": [
    {
     "name": "stdout",
     "output_type": "stream",
     "text": [
      "Trial 10 Complete [00h 00m 25s]\n",
      "val_loss: 0.14528629034757615\n",
      "\n",
      "Best val_loss So Far: 0.14514492452144623\n",
      "Total elapsed time: 00h 03m 48s\n"
     ]
    }
   ],
   "source": [
    "from keras_tuner.tuners import BayesianOptimization\n",
    "\n",
    "def build_model(hp):\n",
    "\n",
    "    model = tf.keras.Sequential()\n",
    "\n",
    "    model.add(tf.keras.layers.Conv1D(\n",
    "        filters=hp.Int('filters', min_value=32, max_value=128, step=16),\n",
    "        kernel_size=hp.Choice('kernel_size', values=[2, 3]),\n",
    "        activation=hp.Choice('activation', values=['relu', 'tanh']),\n",
    "        input_shape=(X_train.shape[1], 1),\n",
    "        padding='same'))\n",
    "        \n",
    "    model.add(tf.keras.layers.MaxPooling1D(pool_size=1))\n",
    "\n",
    "    model.add(tf.keras.layers.Dense(2))\n",
    "    model.add(tf.keras.layers.Dense(2))\n",
    "\n",
    "    model.add(tf.keras.layers.Dense(1))\n",
    "\n",
    "    model.compile(optimizer='adam', loss='mse')\n",
    "    return model\n",
    "\n",
    "tuner = BayesianOptimization(\n",
    "    build_model,\n",
    "    objective='val_loss', \n",
    "    max_trials=10,     \n",
    "    executions_per_trial=10,\n",
    "    directory='new_keras_optimise_logs', \n",
    "    project_name='keras_tuning'\n",
    ")\n",
    "\n",
    "tuner.search(X_train, Y_train, epochs=10, validation_data=(X_test, Y_test))"
   ]
  },
  {
   "cell_type": "code",
   "execution_count": 209,
   "metadata": {},
   "outputs": [],
   "source": [
    "import os\n",
    "\n",
    "checkpoint_path = \"training_1/cp1.ckpt\"\n",
    "checkpoint_dir = os.path.dirname(checkpoint_path)\n",
    "\n",
    "cp_callback = tf.keras.callbacks.ModelCheckpoint(filepath=checkpoint_path,\n",
    "                                                 save_weights_only=True,\n",
    "                                                 verbose=1)"
   ]
  },
  {
   "cell_type": "code",
   "execution_count": 210,
   "metadata": {},
   "outputs": [
    {
     "name": "stdout",
     "output_type": "stream",
     "text": [
      "Epoch 1/50\n",
      "150/224 [===================>..........] - ETA: 0s - loss: 0.1780\n",
      "Epoch 1: saving model to training_1/cp1.ckpt\n",
      "224/224 [==============================] - 0s 1ms/step - loss: 0.1692 - val_loss: 0.1498\n",
      "Epoch 2/50\n",
      "166/224 [=====================>........] - ETA: 0s - loss: 0.1471\n",
      "Epoch 2: saving model to training_1/cp1.ckpt\n",
      "224/224 [==============================] - 0s 786us/step - loss: 0.1466 - val_loss: 0.1465\n",
      "Epoch 3/50\n",
      "170/224 [=====================>........] - ETA: 0s - loss: 0.1455\n",
      "Epoch 3: saving model to training_1/cp1.ckpt\n",
      "224/224 [==============================] - 0s 776us/step - loss: 0.1467 - val_loss: 0.1463\n",
      "Epoch 4/50\n",
      "175/224 [======================>.......] - ETA: 0s - loss: 0.1450\n",
      "Epoch 4: saving model to training_1/cp1.ckpt\n",
      "224/224 [==============================] - 0s 751us/step - loss: 0.1449 - val_loss: 0.1471\n",
      "Epoch 5/50\n",
      "210/224 [===========================>..] - ETA: 0s - loss: 0.1452\n",
      "Epoch 5: saving model to training_1/cp1.ckpt\n",
      "224/224 [==============================] - 0s 923us/step - loss: 0.1453 - val_loss: 0.1459\n",
      "Epoch 6/50\n",
      "218/224 [============================>.] - ETA: 0s - loss: 0.1450\n",
      "Epoch 6: saving model to training_1/cp1.ckpt\n",
      "224/224 [==============================] - 0s 891us/step - loss: 0.1450 - val_loss: 0.1455\n",
      "Epoch 7/50\n",
      "201/224 [=========================>....] - ETA: 0s - loss: 0.1437\n",
      "Epoch 7: saving model to training_1/cp1.ckpt\n",
      "224/224 [==============================] - 0s 918us/step - loss: 0.1445 - val_loss: 0.1451\n",
      "Epoch 8/50\n",
      "217/224 [============================>.] - ETA: 0s - loss: 0.1442\n",
      "Epoch 8: saving model to training_1/cp1.ckpt\n",
      "224/224 [==============================] - 0s 885us/step - loss: 0.1442 - val_loss: 0.1458\n",
      "Epoch 9/50\n",
      "159/224 [====================>.........] - ETA: 0s - loss: 0.1451\n",
      "Epoch 9: saving model to training_1/cp1.ckpt\n",
      "224/224 [==============================] - 0s 846us/step - loss: 0.1444 - val_loss: 0.1452\n",
      "Epoch 10/50\n",
      "169/224 [=====================>........] - ETA: 0s - loss: 0.1438\n",
      "Epoch 10: saving model to training_1/cp1.ckpt\n",
      "224/224 [==============================] - 0s 773us/step - loss: 0.1444 - val_loss: 0.1469\n",
      "Epoch 11/50\n",
      "171/224 [=====================>........] - ETA: 0s - loss: 0.1434\n",
      "Epoch 11: saving model to training_1/cp1.ckpt\n",
      "224/224 [==============================] - 0s 745us/step - loss: 0.1440 - val_loss: 0.1454\n",
      "Epoch 12/50\n",
      "185/224 [=======================>......] - ETA: 0s - loss: 0.1438\n",
      "Epoch 12: saving model to training_1/cp1.ckpt\n",
      "224/224 [==============================] - 0s 732us/step - loss: 0.1441 - val_loss: 0.1449\n",
      "Epoch 13/50\n",
      "164/224 [====================>.........] - ETA: 0s - loss: 0.1435\n",
      "Epoch 13: saving model to training_1/cp1.ckpt\n",
      "224/224 [==============================] - 0s 786us/step - loss: 0.1441 - val_loss: 0.1447\n",
      "Epoch 14/50\n",
      "172/224 [======================>.......] - ETA: 0s - loss: 0.1439\n",
      "Epoch 14: saving model to training_1/cp1.ckpt\n",
      "224/224 [==============================] - 0s 768us/step - loss: 0.1437 - val_loss: 0.1448\n",
      "Epoch 15/50\n",
      "174/224 [======================>.......] - ETA: 0s - loss: 0.1438\n",
      "Epoch 15: saving model to training_1/cp1.ckpt\n",
      "224/224 [==============================] - 0s 750us/step - loss: 0.1436 - val_loss: 0.1446\n",
      "Epoch 16/50\n",
      "171/224 [=====================>........] - ETA: 0s - loss: 0.1433\n",
      "Epoch 16: saving model to training_1/cp1.ckpt\n",
      "224/224 [==============================] - 0s 746us/step - loss: 0.1437 - val_loss: 0.1445\n",
      "Epoch 17/50\n",
      "165/224 [=====================>........] - ETA: 0s - loss: 0.1434\n",
      "Epoch 17: saving model to training_1/cp1.ckpt\n",
      "224/224 [==============================] - 0s 760us/step - loss: 0.1439 - val_loss: 0.1443\n",
      "Epoch 18/50\n",
      "181/224 [=======================>......] - ETA: 0s - loss: 0.1433\n",
      "Epoch 18: saving model to training_1/cp1.ckpt\n",
      "224/224 [==============================] - 0s 717us/step - loss: 0.1434 - val_loss: 0.1447\n",
      "Epoch 19/50\n",
      "188/224 [========================>.....] - ETA: 0s - loss: 0.1429\n",
      "Epoch 19: saving model to training_1/cp1.ckpt\n",
      "224/224 [==============================] - 0s 705us/step - loss: 0.1434 - val_loss: 0.1450\n",
      "Epoch 20/50\n",
      "185/224 [=======================>......] - ETA: 0s - loss: 0.1422\n",
      "Epoch 20: saving model to training_1/cp1.ckpt\n",
      "224/224 [==============================] - 0s 711us/step - loss: 0.1432 - val_loss: 0.1454\n",
      "Epoch 21/50\n",
      "188/224 [========================>.....] - ETA: 0s - loss: 0.1423\n",
      "Epoch 21: saving model to training_1/cp1.ckpt\n",
      "224/224 [==============================] - 0s 710us/step - loss: 0.1434 - val_loss: 0.1449\n",
      "Epoch 22/50\n",
      "186/224 [=======================>......] - ETA: 0s - loss: 0.1412\n",
      "Epoch 22: saving model to training_1/cp1.ckpt\n",
      "224/224 [==============================] - 0s 708us/step - loss: 0.1433 - val_loss: 0.1472\n",
      "Epoch 23/50\n",
      "157/224 [====================>.........] - ETA: 0s - loss: 0.1438\n",
      "Epoch 23: saving model to training_1/cp1.ckpt\n",
      "224/224 [==============================] - 0s 841us/step - loss: 0.1432 - val_loss: 0.1449\n",
      "Epoch 24/50\n",
      "172/224 [======================>.......] - ETA: 0s - loss: 0.1421\n",
      "Epoch 24: saving model to training_1/cp1.ckpt\n",
      "224/224 [==============================] - 0s 796us/step - loss: 0.1432 - val_loss: 0.1441\n",
      "Epoch 25/50\n",
      "172/224 [======================>.......] - ETA: 0s - loss: 0.1435\n",
      "Epoch 25: saving model to training_1/cp1.ckpt\n",
      "224/224 [==============================] - 0s 760us/step - loss: 0.1430 - val_loss: 0.1442\n",
      "Epoch 26/50\n",
      "150/224 [===================>..........] - ETA: 0s - loss: 0.1436\n",
      "Epoch 26: saving model to training_1/cp1.ckpt\n",
      "224/224 [==============================] - 0s 957us/step - loss: 0.1432 - val_loss: 0.1444\n",
      "Epoch 27/50\n",
      "173/224 [======================>.......] - ETA: 0s - loss: 0.1418\n",
      "Epoch 27: saving model to training_1/cp1.ckpt\n",
      "224/224 [==============================] - 0s 783us/step - loss: 0.1428 - val_loss: 0.1453\n",
      "Epoch 28/50\n",
      "222/224 [============================>.] - ETA: 0s - loss: 0.1430\n",
      "Epoch 28: saving model to training_1/cp1.ckpt\n",
      "224/224 [==============================] - 0s 870us/step - loss: 0.1431 - val_loss: 0.1462\n",
      "Epoch 29/50\n",
      "223/224 [============================>.] - ETA: 0s - loss: 0.1425\n",
      "Epoch 29: saving model to training_1/cp1.ckpt\n",
      "224/224 [==============================] - 0s 877us/step - loss: 0.1426 - val_loss: 0.1453\n",
      "Epoch 30/50\n",
      "223/224 [============================>.] - ETA: 0s - loss: 0.1428\n",
      "Epoch 30: saving model to training_1/cp1.ckpt\n",
      "224/224 [==============================] - 0s 879us/step - loss: 0.1428 - val_loss: 0.1445\n",
      "Epoch 31/50\n",
      "222/224 [============================>.] - ETA: 0s - loss: 0.1428\n",
      "Epoch 31: saving model to training_1/cp1.ckpt\n",
      "224/224 [==============================] - 0s 869us/step - loss: 0.1427 - val_loss: 0.1438\n",
      "Epoch 32/50\n",
      "170/224 [=====================>........] - ETA: 0s - loss: 0.1426\n",
      "Epoch 32: saving model to training_1/cp1.ckpt\n",
      "224/224 [==============================] - 0s 776us/step - loss: 0.1430 - val_loss: 0.1441\n",
      "Epoch 33/50\n",
      "220/224 [============================>.] - ETA: 0s - loss: 0.1428\n",
      "Epoch 33: saving model to training_1/cp1.ckpt\n",
      "224/224 [==============================] - 0s 870us/step - loss: 0.1430 - val_loss: 0.1449\n",
      "Epoch 34/50\n",
      "174/224 [======================>.......] - ETA: 0s - loss: 0.1413\n",
      "Epoch 34: saving model to training_1/cp1.ckpt\n",
      "224/224 [==============================] - 0s 748us/step - loss: 0.1423 - val_loss: 0.1476\n",
      "Epoch 35/50\n",
      "177/224 [======================>.......] - ETA: 0s - loss: 0.1429\n",
      "Epoch 35: saving model to training_1/cp1.ckpt\n",
      "224/224 [==============================] - 0s 741us/step - loss: 0.1428 - val_loss: 0.1454\n",
      "Epoch 36/50\n",
      "181/224 [=======================>......] - ETA: 0s - loss: 0.1435\n",
      "Epoch 36: saving model to training_1/cp1.ckpt\n",
      "224/224 [==============================] - 0s 742us/step - loss: 0.1430 - val_loss: 0.1438\n",
      "Epoch 37/50\n",
      "171/224 [=====================>........] - ETA: 0s - loss: 0.1432\n",
      "Epoch 37: saving model to training_1/cp1.ckpt\n",
      "224/224 [==============================] - 0s 751us/step - loss: 0.1425 - val_loss: 0.1440\n",
      "Epoch 38/50\n",
      "180/224 [=======================>......] - ETA: 0s - loss: 0.1440\n",
      "Epoch 38: saving model to training_1/cp1.ckpt\n",
      "224/224 [==============================] - 0s 734us/step - loss: 0.1426 - val_loss: 0.1442\n",
      "Epoch 39/50\n",
      "221/224 [============================>.] - ETA: 0s - loss: 0.1430\n",
      "Epoch 39: saving model to training_1/cp1.ckpt\n",
      "224/224 [==============================] - 0s 868us/step - loss: 0.1428 - val_loss: 0.1437\n",
      "Epoch 40/50\n",
      "177/224 [======================>.......] - ETA: 0s - loss: 0.1425\n",
      "Epoch 40: saving model to training_1/cp1.ckpt\n",
      "224/224 [==============================] - 0s 740us/step - loss: 0.1428 - val_loss: 0.1437\n",
      "Epoch 41/50\n",
      "182/224 [=======================>......] - ETA: 0s - loss: 0.1431\n",
      "Epoch 41: saving model to training_1/cp1.ckpt\n",
      "224/224 [==============================] - 0s 725us/step - loss: 0.1425 - val_loss: 0.1461\n",
      "Epoch 42/50\n",
      "178/224 [======================>.......] - ETA: 0s - loss: 0.1429\n",
      "Epoch 42: saving model to training_1/cp1.ckpt\n",
      "224/224 [==============================] - 0s 745us/step - loss: 0.1426 - val_loss: 0.1436\n",
      "Epoch 43/50\n",
      "178/224 [======================>.......] - ETA: 0s - loss: 0.1421\n",
      "Epoch 43: saving model to training_1/cp1.ckpt\n",
      "224/224 [==============================] - 0s 741us/step - loss: 0.1426 - val_loss: 0.1441\n",
      "Epoch 44/50\n",
      "177/224 [======================>.......] - ETA: 0s - loss: 0.1424\n",
      "Epoch 44: saving model to training_1/cp1.ckpt\n",
      "224/224 [==============================] - 0s 740us/step - loss: 0.1428 - val_loss: 0.1437\n",
      "Epoch 45/50\n",
      "176/224 [======================>.......] - ETA: 0s - loss: 0.1433\n",
      "Epoch 45: saving model to training_1/cp1.ckpt\n",
      "224/224 [==============================] - 0s 741us/step - loss: 0.1425 - val_loss: 0.1453\n",
      "Epoch 46/50\n",
      "180/224 [=======================>......] - ETA: 0s - loss: 0.1424\n",
      "Epoch 46: saving model to training_1/cp1.ckpt\n",
      "224/224 [==============================] - 0s 732us/step - loss: 0.1427 - val_loss: 0.1447\n",
      "Epoch 47/50\n",
      "178/224 [======================>.......] - ETA: 0s - loss: 0.1426\n",
      "Epoch 47: saving model to training_1/cp1.ckpt\n",
      "224/224 [==============================] - 0s 737us/step - loss: 0.1426 - val_loss: 0.1438\n",
      "Epoch 48/50\n",
      "179/224 [======================>.......] - ETA: 0s - loss: 0.1420\n",
      "Epoch 48: saving model to training_1/cp1.ckpt\n",
      "224/224 [==============================] - 0s 728us/step - loss: 0.1426 - val_loss: 0.1438\n",
      "Epoch 49/50\n",
      "180/224 [=======================>......] - ETA: 0s - loss: 0.1429\n",
      "Epoch 49: saving model to training_1/cp1.ckpt\n",
      "224/224 [==============================] - 0s 728us/step - loss: 0.1424 - val_loss: 0.1445\n",
      "Epoch 50/50\n",
      "179/224 [======================>.......] - ETA: 0s - loss: 0.1434\n",
      "Epoch 50: saving model to training_1/cp1.ckpt\n",
      "224/224 [==============================] - 0s 730us/step - loss: 0.1429 - val_loss: 0.1440\n"
     ]
    }
   ],
   "source": [
    "best_hps = tuner.get_best_hyperparameters()[0]\n",
    "best_model = tuner.hypermodel.build(best_hps)\n",
    "history = best_model.fit(X_train, Y_train, epochs=50, validation_data=(X_test, Y_test), callbacks=[cp_callback])"
   ]
  },
  {
   "cell_type": "code",
   "execution_count": 211,
   "metadata": {},
   "outputs": [
    {
     "data": {
      "text/plain": [
       "<tensorflow.python.checkpoint.checkpoint.CheckpointLoadStatus at 0x347b54a50>"
      ]
     },
     "execution_count": 211,
     "metadata": {},
     "output_type": "execute_result"
    }
   ],
   "source": [
    "new_model = tuner.hypermodel.build(best_hps)\n",
    "new_model.load_weights(checkpoint_path)"
   ]
  },
  {
   "cell_type": "code",
   "execution_count": 212,
   "metadata": {},
   "outputs": [
    {
     "name": "stdout",
     "output_type": "stream",
     "text": [
      "1/1 [==============================] - 0s 41ms/step\n"
     ]
    },
    {
     "data": {
      "text/plain": [
       "array([[[0.6710303 ],\n",
       "        [0.6965246 ]],\n",
       "\n",
       "       [[0.651154  ],\n",
       "        [0.6420587 ]],\n",
       "\n",
       "       [[0.70924276],\n",
       "        [0.71199626]],\n",
       "\n",
       "       ...,\n",
       "\n",
       "       [[0.5129047 ],\n",
       "        [0.5388785 ]],\n",
       "\n",
       "       [[0.7063937 ],\n",
       "        [0.695563  ]],\n",
       "\n",
       "       [[0.6713104 ],\n",
       "        [0.6753432 ]]], dtype=float32)"
      ]
     },
     "execution_count": 212,
     "metadata": {},
     "output_type": "execute_result"
    }
   ],
   "source": [
    "predictions = new_model.predict(X_train, batch_size=len(X_train))\n",
    "predictions"
   ]
  },
  {
   "cell_type": "code",
   "execution_count": 213,
   "metadata": {},
   "outputs": [
    {
     "data": {
      "text/plain": [
       "array([[0.61735265, 0.83947789],\n",
       "       [0.60650724, 0.65978356],\n",
       "       [0.27902274, 0.76869743],\n",
       "       ...,\n",
       "       [0.00618305, 0.89925542],\n",
       "       [0.02874284, 0.71292919],\n",
       "       [0.56479671, 0.67913665]])"
      ]
     },
     "execution_count": 213,
     "metadata": {},
     "output_type": "execute_result"
    }
   ],
   "source": [
    "X_train"
   ]
  },
  {
   "cell_type": "code",
   "execution_count": 208,
   "metadata": {},
   "outputs": [
    {
     "ename": "AttributeError",
     "evalue": "'CheckpointLoadStatus' object has no attribute 'fit'",
     "output_type": "error",
     "traceback": [
      "\u001b[0;31m---------------------------------------------------------------------------\u001b[0m",
      "\u001b[0;31mAttributeError\u001b[0m                            Traceback (most recent call last)",
      "Cell \u001b[0;32mIn[208], line 1\u001b[0m\n\u001b[0;32m----> 1\u001b[0m history \u001b[38;5;241m=\u001b[39m \u001b[43mbest_model\u001b[49m\u001b[38;5;241;43m.\u001b[39;49m\u001b[43mfit\u001b[49m(X_train, Y_train, epochs\u001b[38;5;241m=\u001b[39m\u001b[38;5;241m100\u001b[39m, validation_data\u001b[38;5;241m=\u001b[39m(X_test, Y_test), callbacks\u001b[38;5;241m=\u001b[39m[cp_callback])\n\u001b[1;32m      3\u001b[0m best_model\u001b[38;5;241m.\u001b[39mevaluate(X_test, Y_test)\n",
      "\u001b[0;31mAttributeError\u001b[0m: 'CheckpointLoadStatus' object has no attribute 'fit'"
     ]
    }
   ],
   "source": [
    "best_model.evaluate(X_test, Y_test)"
   ]
  },
  {
   "cell_type": "code",
   "execution_count": 162,
   "metadata": {},
   "outputs": [
    {
     "name": "stdout",
     "output_type": "stream",
     "text": [
      "56/56 [==============================] - 0s 531us/step\n"
     ]
    }
   ],
   "source": [
    "from sklearn.metrics import mean_squared_error, mean_absolute_error\n",
    "\n",
    "predictions = best_model.predict(X_test)"
   ]
  },
  {
   "cell_type": "code",
   "execution_count": 163,
   "metadata": {},
   "outputs": [
    {
     "data": {
      "image/png": "[encoded data removed]",
      "text/plain": [
       "<Figure size 640x480 with 1 Axes>"
      ]
     },
     "metadata": {},
     "output_type": "display_data"
    }
   ],
   "source": [
    "plt.scatter(Y_test[:, 0], predictions[:, 0], alpha=0.5)\n",
    "plt.title(\"Predicted vs True\")\n",
    "plt.xlabel(\"True Values\")\n",
    "plt.ylabel(\"Predicted Values\")\n",
    "plt.show()"
   ]
  },
  {
   "cell_type": "code",
   "execution_count": 164,
   "metadata": {},
   "outputs": [
    {
     "name": "stdout",
     "output_type": "stream",
     "text": [
      "Crime Level - MSE: 0.1432, RMSE: 0.3785, MAE: 0.3566\n"
     ]
    }
   ],
   "source": [
    "mse_level = mean_squared_error(Y_test[:, 0], predictions[:, 0])\n",
    "rmse_level = np.sqrt(mse_level)\n",
    "mae_level = mean_absolute_error(Y_test[:, 0], predictions[:, 0])\n",
    "\n",
    "print(\"Crime Level - MSE: {:.4f}, RMSE: {:.4f}, MAE: {:.4f}\".format(mse_level, rmse_level, mae_level))"
   ]
  }
 ],
 "metadata": {
  "kernelspec": {
   "display_name": ".venv",
   "language": "python",
   "name": "python3"
  },
  "language_info": {
   "codemirror_mode": {
    "name": "ipython",
    "version": 3
   },
   "file_extension": ".py",
   "mimetype": "text/x-python",
   "name": "python",
   "nbconvert_exporter": "python",
   "pygments_lexer": "ipython3",
   "version": "3.11.4"
  }
 },
 "nbformat": 4,
 "nbformat_minor": 2
}
