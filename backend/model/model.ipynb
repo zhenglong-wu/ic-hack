{
 "cells": [
  {
   "cell_type": "code",
   "execution_count": 26,
   "metadata": {},
   "outputs": [
    {
     "data": {
      "text/html": [
       "<div>\n",
       "<style scoped>\n",
       "    .dataframe tbody tr th:only-of-type {\n",
       "        vertical-align: middle;\n",
       "    }\n",
       "\n",
       "    .dataframe tbody tr th {\n",
       "        vertical-align: top;\n",
       "    }\n",
       "\n",
       "    .dataframe thead th {\n",
       "        text-align: right;\n",
       "    }\n",
       "</style>\n",
       "<table border=\"1\" class=\"dataframe\">\n",
       "  <thead>\n",
       "    <tr style=\"text-align: right;\">\n",
       "      <th></th>\n",
       "      <th>level</th>\n",
       "      <th>long</th>\n",
       "      <th>lat</th>\n",
       "    </tr>\n",
       "  </thead>\n",
       "  <tbody>\n",
       "    <tr>\n",
       "      <th>0</th>\n",
       "      <td>0</td>\n",
       "      <td>-0.130495</td>\n",
       "      <td>51.511534</td>\n",
       "    </tr>\n",
       "    <tr>\n",
       "      <th>1</th>\n",
       "      <td>0</td>\n",
       "      <td>-0.140844</td>\n",
       "      <td>51.514684</td>\n",
       "    </tr>\n",
       "    <tr>\n",
       "      <th>2</th>\n",
       "      <td>0</td>\n",
       "      <td>-0.135874</td>\n",
       "      <td>51.515684</td>\n",
       "    </tr>\n",
       "    <tr>\n",
       "      <th>3</th>\n",
       "      <td>0</td>\n",
       "      <td>-0.110329</td>\n",
       "      <td>51.518250</td>\n",
       "    </tr>\n",
       "    <tr>\n",
       "      <th>4</th>\n",
       "      <td>0</td>\n",
       "      <td>-0.125708</td>\n",
       "      <td>51.507725</td>\n",
       "    </tr>\n",
       "    <tr>\n",
       "      <th>...</th>\n",
       "      <td>...</td>\n",
       "      <td>...</td>\n",
       "      <td>...</td>\n",
       "    </tr>\n",
       "    <tr>\n",
       "      <th>8953</th>\n",
       "      <td>1</td>\n",
       "      <td>-0.134599</td>\n",
       "      <td>51.511608</td>\n",
       "    </tr>\n",
       "    <tr>\n",
       "      <th>8954</th>\n",
       "      <td>1</td>\n",
       "      <td>-0.125331</td>\n",
       "      <td>51.513753</td>\n",
       "    </tr>\n",
       "    <tr>\n",
       "      <th>8955</th>\n",
       "      <td>1</td>\n",
       "      <td>-0.131706</td>\n",
       "      <td>51.509404</td>\n",
       "    </tr>\n",
       "    <tr>\n",
       "      <th>8956</th>\n",
       "      <td>1</td>\n",
       "      <td>-0.147526</td>\n",
       "      <td>51.516597</td>\n",
       "    </tr>\n",
       "    <tr>\n",
       "      <th>8957</th>\n",
       "      <td>1</td>\n",
       "      <td>-0.110746</td>\n",
       "      <td>51.516523</td>\n",
       "    </tr>\n",
       "  </tbody>\n",
       "</table>\n",
       "<p>8958 rows × 3 columns</p>\n",
       "</div>"
      ],
      "text/plain": [
       "      level      long        lat\n",
       "0         0 -0.130495  51.511534\n",
       "1         0 -0.140844  51.514684\n",
       "2         0 -0.135874  51.515684\n",
       "3         0 -0.110329  51.518250\n",
       "4         0 -0.125708  51.507725\n",
       "...     ...       ...        ...\n",
       "8953      1 -0.134599  51.511608\n",
       "8954      1 -0.125331  51.513753\n",
       "8955      1 -0.131706  51.509404\n",
       "8956      1 -0.147526  51.516597\n",
       "8957      1 -0.110746  51.516523\n",
       "\n",
       "[8958 rows x 3 columns]"
      ]
     },
     "execution_count": 26,
     "metadata": {},
     "output_type": "execute_result"
    }
   ],
   "source": [
    "import pandas as pd\n",
    "import numpy as np\n",
    "import tensorflow as tf\n",
    "import matplotlib.pyplot as plt\n",
    "\n",
    "data = pd.read_csv('data/data.csv', index_col=None)\n",
    "data"
   ]
  },
  {
   "cell_type": "code",
   "execution_count": 27,
   "metadata": {},
   "outputs": [],
   "source": [
    "from sklearn.preprocessing import MinMaxScaler\n",
    "from sklearn.model_selection import train_test_split\n",
    "\n",
    "\n",
    "scaler = MinMaxScaler()\n",
    "X = scaler.fit_transform(data.loc[:, ['long', 'lat']])\n",
    "Y = scaler.fit_transform(data.loc[:, ['level']])\n",
    "\n",
    "X_train, X_test, Y_train, Y_test = train_test_split(X, Y, test_size=0.2, random_state=30)"
   ]
  },
  {
   "cell_type": "code",
   "execution_count": 29,
   "metadata": {},
   "outputs": [
    {
     "name": "stdout",
     "output_type": "stream",
     "text": [
      "Trial 10 Complete [00h 00m 00s]\n",
      "\n",
      "Best val_loss So Far: 0.14503727555274964\n",
      "Total elapsed time: 00h 01m 05s\n"
     ]
    }
   ],
   "source": [
    "from keras_tuner.tuners import BayesianOptimization\n",
    "\n",
    "def build_model(hp):\n",
    "\n",
    "    model = tf.keras.Sequential()\n",
    "\n",
    "    model.add(tf.keras.layers.Conv1D(\n",
    "        filters=hp.Int('filters', min_value=32, max_value=128, step=32),\n",
    "        kernel_size=hp.Choice('kernel_size', values=[2, 3]),\n",
    "        activation=hp.Choice('activation', values=['relu', 'tanh']),\n",
    "        input_shape=(X_train.shape[1], 1)))\n",
    "        \n",
    "    model.add(tf.keras.layers.MaxPooling1D(pool_size=1))\n",
    "\n",
    "    model.add(tf.keras.layers.Dense(2))\n",
    "    model.add(tf.keras.layers.Dense(2))\n",
    "\n",
    "    model.add(tf.keras.layers.Dense(1))\n",
    "\n",
    "    model.compile(optimizer='adam', loss='mse')\n",
    "    return model\n",
    "\n",
    "tuner = BayesianOptimization(\n",
    "    build_model,\n",
    "    objective='val_loss', \n",
    "    max_trials=10,     \n",
    "    executions_per_trial=10,\n",
    "    directory='new_keras_optimise_logs', \n",
    "    project_name='keras_tuning'\n",
    ")\n",
    "\n",
    "tuner.search(X_train, Y_train, epochs=10, validation_data=(X_test, Y_test))"
   ]
  },
  {
   "cell_type": "code",
   "execution_count": 30,
   "metadata": {},
   "outputs": [
    {
     "name": "stdout",
     "output_type": "stream",
     "text": [
      "Epoch 1/50\n",
      "224/224 [==============================] - 0s 958us/step - loss: 0.1928 - val_loss: 0.1496\n",
      "Epoch 2/50\n",
      "224/224 [==============================] - 0s 650us/step - loss: 0.1466 - val_loss: 0.1470\n",
      "Epoch 3/50\n",
      "224/224 [==============================] - 0s 665us/step - loss: 0.1454 - val_loss: 0.1461\n",
      "Epoch 4/50\n",
      "224/224 [==============================] - 0s 846us/step - loss: 0.1447 - val_loss: 0.1457\n",
      "Epoch 5/50\n",
      "224/224 [==============================] - 0s 646us/step - loss: 0.1445 - val_loss: 0.1455\n",
      "Epoch 6/50\n",
      "224/224 [==============================] - 0s 721us/step - loss: 0.1444 - val_loss: 0.1453\n",
      "Epoch 7/50\n",
      "224/224 [==============================] - 0s 643us/step - loss: 0.1442 - val_loss: 0.1457\n",
      "Epoch 8/50\n",
      "224/224 [==============================] - 0s 723us/step - loss: 0.1440 - val_loss: 0.1453\n",
      "Epoch 9/50\n",
      "224/224 [==============================] - 0s 704us/step - loss: 0.1442 - val_loss: 0.1467\n",
      "Epoch 10/50\n",
      "224/224 [==============================] - 0s 751us/step - loss: 0.1440 - val_loss: 0.1449\n",
      "Epoch 11/50\n",
      "224/224 [==============================] - 0s 648us/step - loss: 0.1433 - val_loss: 0.1451\n",
      "Epoch 12/50\n",
      "224/224 [==============================] - 0s 686us/step - loss: 0.1433 - val_loss: 0.1448\n",
      "Epoch 13/50\n",
      "224/224 [==============================] - 0s 699us/step - loss: 0.1432 - val_loss: 0.1452\n",
      "Epoch 14/50\n",
      "224/224 [==============================] - 0s 645us/step - loss: 0.1432 - val_loss: 0.1452\n",
      "Epoch 15/50\n",
      "224/224 [==============================] - 0s 578us/step - loss: 0.1431 - val_loss: 0.1446\n",
      "Epoch 16/50\n",
      "224/224 [==============================] - 0s 712us/step - loss: 0.1437 - val_loss: 0.1459\n",
      "Epoch 17/50\n",
      "224/224 [==============================] - 0s 650us/step - loss: 0.1429 - val_loss: 0.1441\n",
      "Epoch 18/50\n",
      "224/224 [==============================] - 0s 719us/step - loss: 0.1429 - val_loss: 0.1444\n",
      "Epoch 19/50\n",
      "224/224 [==============================] - 0s 591us/step - loss: 0.1428 - val_loss: 0.1438\n",
      "Epoch 20/50\n",
      "224/224 [==============================] - 0s 710us/step - loss: 0.1430 - val_loss: 0.1441\n",
      "Epoch 21/50\n",
      "224/224 [==============================] - 0s 669us/step - loss: 0.1424 - val_loss: 0.1449\n",
      "Epoch 22/50\n",
      "224/224 [==============================] - 0s 662us/step - loss: 0.1425 - val_loss: 0.1448\n",
      "Epoch 23/50\n",
      "224/224 [==============================] - 0s 636us/step - loss: 0.1429 - val_loss: 0.1456\n",
      "Epoch 24/50\n",
      "224/224 [==============================] - 0s 569us/step - loss: 0.1426 - val_loss: 0.1442\n",
      "Epoch 25/50\n",
      "224/224 [==============================] - 0s 549us/step - loss: 0.1428 - val_loss: 0.1436\n",
      "Epoch 26/50\n",
      "224/224 [==============================] - 0s 561us/step - loss: 0.1431 - val_loss: 0.1438\n",
      "Epoch 27/50\n",
      "224/224 [==============================] - 0s 784us/step - loss: 0.1424 - val_loss: 0.1441\n",
      "Epoch 28/50\n",
      "224/224 [==============================] - 0s 597us/step - loss: 0.1424 - val_loss: 0.1439\n",
      "Epoch 29/50\n",
      "224/224 [==============================] - 0s 692us/step - loss: 0.1428 - val_loss: 0.1438\n",
      "Epoch 30/50\n",
      "224/224 [==============================] - 0s 597us/step - loss: 0.1425 - val_loss: 0.1435\n",
      "Epoch 31/50\n",
      "224/224 [==============================] - 0s 595us/step - loss: 0.1426 - val_loss: 0.1437\n",
      "Epoch 32/50\n",
      "224/224 [==============================] - 0s 622us/step - loss: 0.1427 - val_loss: 0.1435\n",
      "Epoch 33/50\n",
      "224/224 [==============================] - 0s 623us/step - loss: 0.1424 - val_loss: 0.1445\n",
      "Epoch 34/50\n",
      "224/224 [==============================] - 0s 598us/step - loss: 0.1429 - val_loss: 0.1440\n",
      "Epoch 35/50\n",
      "224/224 [==============================] - 0s 613us/step - loss: 0.1423 - val_loss: 0.1467\n",
      "Epoch 36/50\n",
      "224/224 [==============================] - 0s 579us/step - loss: 0.1423 - val_loss: 0.1435\n",
      "Epoch 37/50\n",
      "224/224 [==============================] - 0s 570us/step - loss: 0.1427 - val_loss: 0.1437\n",
      "Epoch 38/50\n",
      "224/224 [==============================] - 0s 566us/step - loss: 0.1423 - val_loss: 0.1435\n",
      "Epoch 39/50\n",
      "224/224 [==============================] - 0s 593us/step - loss: 0.1423 - val_loss: 0.1452\n",
      "Epoch 40/50\n",
      "224/224 [==============================] - 0s 612us/step - loss: 0.1428 - val_loss: 0.1441\n",
      "Epoch 41/50\n",
      "224/224 [==============================] - 0s 589us/step - loss: 0.1424 - val_loss: 0.1436\n",
      "Epoch 42/50\n",
      "224/224 [==============================] - 0s 604us/step - loss: 0.1422 - val_loss: 0.1434\n",
      "Epoch 43/50\n",
      "224/224 [==============================] - 0s 592us/step - loss: 0.1420 - val_loss: 0.1451\n",
      "Epoch 44/50\n",
      "224/224 [==============================] - 0s 643us/step - loss: 0.1421 - val_loss: 0.1454\n",
      "Epoch 45/50\n",
      "224/224 [==============================] - 0s 689us/step - loss: 0.1424 - val_loss: 0.1441\n",
      "Epoch 46/50\n",
      "224/224 [==============================] - 0s 595us/step - loss: 0.1423 - val_loss: 0.1437\n",
      "Epoch 47/50\n",
      "224/224 [==============================] - 0s 559us/step - loss: 0.1422 - val_loss: 0.1445\n",
      "Epoch 48/50\n",
      "224/224 [==============================] - 0s 565us/step - loss: 0.1421 - val_loss: 0.1452\n",
      "Epoch 49/50\n",
      "224/224 [==============================] - 0s 598us/step - loss: 0.1423 - val_loss: 0.1436\n",
      "Epoch 50/50\n",
      "224/224 [==============================] - 0s 616us/step - loss: 0.1424 - val_loss: 0.1436\n",
      "56/56 [==============================] - 0s 377us/step - loss: 0.1436\n"
     ]
    },
    {
     "data": {
      "text/plain": [
       "0.14357474446296692"
      ]
     },
     "execution_count": 30,
     "metadata": {},
     "output_type": "execute_result"
    }
   ],
   "source": [
    "best_hps = tuner.get_best_hyperparameters()[0]\n",
    "best_model = tuner.hypermodel.build(best_hps)\n",
    "history = best_model.fit(X_train, Y_train, epochs=50, validation_data=(X_test, Y_test))\n",
    "\n",
    "best_model.evaluate(X_test, Y_test)"
   ]
  },
  {
   "cell_type": "code",
   "execution_count": 31,
   "metadata": {},
   "outputs": [
    {
     "name": "stdout",
     "output_type": "stream",
     "text": [
      "56/56 [==============================] - 0s 441us/step\n"
     ]
    }
   ],
   "source": [
    "from sklearn.metrics import mean_squared_error, mean_absolute_error\n",
    "\n",
    "predictions = best_model.predict(X_test)"
   ]
  },
  {
   "cell_type": "code",
   "execution_count": 74,
   "metadata": {},
   "outputs": [
    {
     "data": {
      "text/plain": [
       "array([0.27902274, 0.76869743])"
      ]
     },
     "execution_count": 74,
     "metadata": {},
     "output_type": "execute_result"
    }
   ],
   "source": [
    "X_test[0]"
   ]
  },
  {
   "cell_type": "code",
   "execution_count": 49,
   "metadata": {},
   "outputs": [
    {
     "name": "stdout",
     "output_type": "stream",
     "text": [
      "56/56 [==============================] - 0s 476us/step\n"
     ]
    },
    {
     "data": {
      "text/plain": [
       "array([[[0.6800374 ]],\n",
       "\n",
       "       [[0.675805  ]],\n",
       "\n",
       "       [[0.58555156]],\n",
       "\n",
       "       ...,\n",
       "\n",
       "       [[0.6800374 ]],\n",
       "\n",
       "       [[0.64729154]],\n",
       "\n",
       "       [[0.6592656 ]]], dtype=float32)"
      ]
     },
     "execution_count": 49,
     "metadata": {},
     "output_type": "execute_result"
    }
   ],
   "source": [
    "best_model.predict(X_test)"
   ]
  },
  {
   "cell_type": "code",
   "execution_count": 54,
   "metadata": {},
   "outputs": [
    {
     "name": "stdout",
     "output_type": "stream",
     "text": [
      "1/1 [==============================] - 0s 15ms/step\n"
     ]
    },
    {
     "data": {
      "text/plain": [
       "array([[[0.38503104]]], dtype=float32)"
      ]
     },
     "execution_count": 54,
     "metadata": {},
     "output_type": "execute_result"
    }
   ],
   "source": []
  },
  {
   "cell_type": "code",
   "execution_count": 32,
   "metadata": {},
   "outputs": [
    {
     "data": {
      "image/png": "[encoded data removed]",
      "text/plain": [
       "<Figure size 640x480 with 1 Axes>"
      ]
     },
     "metadata": {},
     "output_type": "display_data"
    }
   ],
   "source": [
    "plt.scatter(Y_test[:, 0], predictions[:, 0], alpha=0.5)\n",
    "plt.title(\"Predicted vs True\")\n",
    "plt.xlabel(\"True Values\")\n",
    "plt.ylabel(\"Predicted Values\")\n",
    "plt.show()"
   ]
  },
  {
   "cell_type": "code",
   "execution_count": 33,
   "metadata": {},
   "outputs": [
    {
     "name": "stdout",
     "output_type": "stream",
     "text": [
      "Crime Level - MSE: 0.1436, RMSE: 0.3789, MAE: 0.3571\n"
     ]
    }
   ],
   "source": [
    "mse_level = mean_squared_error(Y_test[:, 0], predictions[:, 0])\n",
    "rmse_level = np.sqrt(mse_level)\n",
    "mae_level = mean_absolute_error(Y_test[:, 0], predictions[:, 0])\n",
    "\n",
    "print(\"Crime Level - MSE: {:.4f}, RMSE: {:.4f}, MAE: {:.4f}\".format(mse_level, rmse_level, mae_level))"
   ]
  },
  {
   "cell_type": "code",
   "execution_count": 34,
   "metadata": {},
   "outputs": [
    {
     "name": "stdout",
     "output_type": "stream",
     "text": [
      "INFO:tensorflow:Assets written to: model/assets\n"
     ]
    },
    {
     "name": "stderr",
     "output_type": "stream",
     "text": [
      "INFO:tensorflow:Assets written to: model/assets\n"
     ]
    }
   ],
   "source": [
    "best_model.save('model')"
   ]
  },
  {
   "cell_type": "code",
   "execution_count": 72,
   "metadata": {},
   "outputs": [
    {
     "name": "stdout",
     "output_type": "stream",
     "text": [
      "[[[0.646759]]]\n"
     ]
    }
   ],
   "source": [
    "model = tf.saved_model.load('./model')\n",
    "data = scaler.fit_transform(np.array([[-0.1231, 51.23123]])).reshape(1, 2, 1)\n",
    "prediction = model.signatures['serving_default'](tf.constant(data, dtype=tf.float32))\n",
    "output_key = list(prediction.keys())[0]  \n",
    "predicted_value = prediction[output_key].numpy()\n",
    "\n",
    "print(predicted_value)"
   ]
  }
 ],
 "metadata": {
  "kernelspec": {
   "display_name": ".venv",
   "language": "python",
   "name": "python3"
  },
  "language_info": {
   "codemirror_mode": {
    "name": "ipython",
    "version": 3
   },
   "file_extension": ".py",
   "mimetype": "text/x-python",
   "name": "python",
   "nbconvert_exporter": "python",
   "pygments_lexer": "ipython3",
   "version": "3.11.4"
  }
 },
 "nbformat": 4,
 "nbformat_minor": 2
}
